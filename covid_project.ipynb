{
  "nbformat": 4,
  "nbformat_minor": 0,
  "metadata": {
    "colab": {
      "name": "covid_project.ipynb",
      "provenance": [],
      "collapsed_sections": []
    },
    "kernelspec": {
      "name": "python3",
      "display_name": "Python 3"
    },
    "language_info": {
      "name": "python"
    }
  },
  "cells": [
    {
      "cell_type": "markdown",
      "metadata": {
        "id": "27gEgEvU1MY9"
      },
      "source": [
        "Import the necessary libraries"
      ]
    },
    {
      "cell_type": "code",
      "metadata": {
        "id": "sZ1MEojh1Kii"
      },
      "source": [
        "import numpy\n",
        "import pandas\n",
        "\n",
        "import joblib\n",
        "\n",
        "from google.colab import drive\n",
        "\n",
        "from sklearn.model_selection import train_test_split\n",
        "from sklearn.ensemble import RandomForestClassifier\n",
        "from sklearn import svm\n",
        "from sklearn.tree import DecisionTreeClassifier\n",
        "from sklearn.naive_bayes import GaussianNB\n",
        "from sklearn.metrics import classification_report, confusion_matrix, accuracy_score\n",
        "from sklearn import preprocessing"
      ],
      "execution_count": 4,
      "outputs": []
    },
    {
      "cell_type": "markdown",
      "metadata": {
        "id": "fGNvnkue1VlG"
      },
      "source": [
        "Import Drive"
      ]
    },
    {
      "cell_type": "code",
      "metadata": {
        "colab": {
          "base_uri": "https://localhost:8080/"
        },
        "id": "-LHZ0Fzf1XR9",
        "outputId": "167abd31-3935-4734-f107-994e094bc8cc"
      },
      "source": [
        "drive.mount('/content/drive')"
      ],
      "execution_count": 5,
      "outputs": [
        {
          "output_type": "stream",
          "text": [
            "Mounted at /content/drive\n"
          ],
          "name": "stdout"
        }
      ]
    },
    {
      "cell_type": "markdown",
      "metadata": {
        "id": "naLnmfs-1a8O"
      },
      "source": [
        "Read data from CSV file"
      ]
    },
    {
      "cell_type": "code",
      "metadata": {
        "colab": {
          "base_uri": "https://localhost:8080/"
        },
        "id": "4rD-Qspd1dnN",
        "outputId": "c17c7988-c4f4-46c3-8e4d-7877945e5c28"
      },
      "source": [
        "data = pandas.read_csv('drive/MyDrive/covid.csv')\n",
        "\n",
        "print('Data:\\n')\n",
        "print(data)\n",
        "\n",
        "print('\\nColumns:\\n')\n",
        "print(data.columns)"
      ],
      "execution_count": 6,
      "outputs": [
        {
          "output_type": "stream",
          "text": [
            "Data:\n",
            "\n",
            "            id  sex  patient_type  ... contact_other_covid covid_res icu\n",
            "0       16169f    2             1  ...                   2         1  97\n",
            "1       1009bf    2             1  ...                  99         1  97\n",
            "2       167386    1             2  ...                  99         1   2\n",
            "3       0b5948    2             2  ...                  99         1   2\n",
            "4       0d01b5    1             2  ...                  99         1   2\n",
            "...        ...  ...           ...  ...                 ...       ...  ..\n",
            "566597  01ff60    2             1  ...                   2         3  97\n",
            "566598  047cd1    1             1  ...                   2         3  97\n",
            "566599  1beb81    1             2  ...                  99         3   2\n",
            "566600  16fb02    1             1  ...                   2         3  97\n",
            "566601  0021c9    2             1  ...                   2         3  97\n",
            "\n",
            "[566602 rows x 23 columns]\n",
            "\n",
            "Columns:\n",
            "\n",
            "Index(['id', 'sex', 'patient_type', 'entry_date', 'date_symptoms', 'date_died',\n",
            "       'intubed', 'pneumonia', 'age', 'pregnancy', 'diabetes', 'copd',\n",
            "       'asthma', 'inmsupr', 'hypertension', 'other_disease', 'cardiovascular',\n",
            "       'obesity', 'renal_chronic', 'tobacco', 'contact_other_covid',\n",
            "       'covid_res', 'icu'],\n",
            "      dtype='object')\n"
          ],
          "name": "stdout"
        }
      ]
    },
    {
      "cell_type": "markdown",
      "metadata": {
        "id": "424EACCFIvj_"
      },
      "source": [
        "Encode the gender field"
      ]
    },
    {
      "cell_type": "code",
      "metadata": {
        "id": "9FIIVMkrIvay"
      },
      "source": [
        "data_gender = data.sex\n",
        "\n",
        "male = []\n",
        "female = []\n",
        "other = []\n",
        "\n",
        "for gender in data_gender:\n",
        "    if gender == 1:\n",
        "        male.append(1)\n",
        "        female.append(0)\n",
        "        other.append(0)\n",
        "    elif gender == 2:\n",
        "        male.append(0)\n",
        "        female.append(1)\n",
        "        other.append(0)\n",
        "    else:\n",
        "        male.append(0)\n",
        "        female.append(0)\n",
        "        other.append(1)\n",
        "\n",
        "# Remove existing field\n",
        "data.drop(columns = ['sex'])\n",
        "\n",
        "# Add the new fields\n",
        "data['male'] = male\n",
        "data['female'] = female\n",
        "data['other'] = other"
      ],
      "execution_count": 7,
      "outputs": []
    },
    {
      "cell_type": "markdown",
      "metadata": {
        "id": "QOK2W3C9LiUH"
      },
      "source": [
        "Encode the following fields\n",
        "\n",
        "1. Pneumonia\n",
        "2. Pregnancy\n",
        "3. Diabetes\n",
        "4. COPD\n",
        "5. Asthma\n",
        "6. Hypertension\n",
        "7. Other diseases\n",
        "8. Cardiovascular\n",
        "9. Obesity\n",
        "10. Renal Diseases (Kidney)\n",
        "11. Tobacco consumer"
      ]
    },
    {
      "cell_type": "code",
      "metadata": {
        "id": "To-ZHeLQLiEY"
      },
      "source": [
        "def encode(name):\n",
        "    data_list = data[name]\n",
        "\n",
        "    res = []\n",
        "\n",
        "    for record in data_list:\n",
        "        if record == 1:\n",
        "            res.append(1)\n",
        "        else:\n",
        "            res.append(0)\n",
        "\n",
        "    # Drop the existing field\n",
        "    data.drop(columns = [name])\n",
        "\n",
        "    # Add the new field with same name\n",
        "    data[name] = res\n",
        "    \n",
        "# Encode all the fields in arr\n",
        "arr = ['pneumonia', 'pregnancy', 'diabetes', 'copd', 'asthma', 'hypertension', 'other_disease', 'cardiovascular', 'obesity', 'renal_chronic', 'tobacco']\n",
        "\n",
        "for name in arr:\n",
        "    encode(name)"
      ],
      "execution_count": 8,
      "outputs": []
    },
    {
      "cell_type": "markdown",
      "metadata": {
        "id": "2OsVdpVIZ1km"
      },
      "source": [
        "Put the result into a single field"
      ]
    },
    {
      "cell_type": "code",
      "metadata": {
        "id": "9lMLCBO6Z1X_"
      },
      "source": [
        "result = []\n",
        "\n",
        "data_type = data.patient_type\n",
        "data_ventilator = data.intubed\n",
        "data_icu = data.icu\n",
        "data_died = data.date_died\n",
        "\n",
        "for i in range(0, len(data)):\n",
        "    if data_type[i] == 2 or data_ventilator[i] == 1 or data_icu[i] == 1 or data_died[i] != '9999-99-99':\n",
        "        result.append(1)\n",
        "    else:\n",
        "        result.append(0)"
      ],
      "execution_count": 9,
      "outputs": []
    },
    {
      "cell_type": "markdown",
      "metadata": {
        "id": "LEgKdUvC1gxM"
      },
      "source": [
        "Remove columns which are not useful"
      ]
    },
    {
      "cell_type": "code",
      "metadata": {
        "colab": {
          "base_uri": "https://localhost:8080/"
        },
        "id": "zqbNRqxQ1hes",
        "outputId": "c7e29147-b065-49af-cbf2-fff0964aa51f"
      },
      "source": [
        "data = data.drop(columns = ['id', 'sex', 'patient_type', 'intubed', 'icu', 'entry_date', 'date_symptoms', 'date_died', 'inmsupr', 'contact_other_covid', 'covid_res'])\n",
        "\n",
        "print('Columns after removal:\\n')\n",
        "print(data.columns)"
      ],
      "execution_count": 10,
      "outputs": [
        {
          "output_type": "stream",
          "text": [
            "Columns after removal:\n",
            "\n",
            "Index(['pneumonia', 'age', 'pregnancy', 'diabetes', 'copd', 'asthma',\n",
            "       'hypertension', 'other_disease', 'cardiovascular', 'obesity',\n",
            "       'renal_chronic', 'tobacco', 'male', 'female', 'other'],\n",
            "      dtype='object')\n"
          ],
          "name": "stdout"
        }
      ]
    },
    {
      "cell_type": "markdown",
      "metadata": {
        "id": "ZQj1qwXM1jys"
      },
      "source": [
        "Split the data into test and train"
      ]
    },
    {
      "cell_type": "code",
      "metadata": {
        "id": "lLpfRIoeGKGy"
      },
      "source": [
        "X_train, X_test, Y_train, Y_test = train_test_split(data, result, test_size = 0.2)"
      ],
      "execution_count": 11,
      "outputs": []
    },
    {
      "cell_type": "markdown",
      "metadata": {
        "id": "JS-jsBltGVwG"
      },
      "source": [
        "Random Forest Classifier"
      ]
    },
    {
      "cell_type": "code",
      "metadata": {
        "id": "wSKJP4UuGYtn",
        "colab": {
          "base_uri": "https://localhost:8080/"
        },
        "outputId": "3f975856-0cdd-405d-e3c3-ccf898b6ffea"
      },
      "source": [
        "random_forest_classifier = RandomForestClassifier(n_estimators = 50)\n",
        "random_forest_classifier.fit(X_train, Y_train)"
      ],
      "execution_count": 12,
      "outputs": [
        {
          "output_type": "execute_result",
          "data": {
            "text/plain": [
              "RandomForestClassifier(bootstrap=True, ccp_alpha=0.0, class_weight=None,\n",
              "                       criterion='gini', max_depth=None, max_features='auto',\n",
              "                       max_leaf_nodes=None, max_samples=None,\n",
              "                       min_impurity_decrease=0.0, min_impurity_split=None,\n",
              "                       min_samples_leaf=1, min_samples_split=2,\n",
              "                       min_weight_fraction_leaf=0.0, n_estimators=50,\n",
              "                       n_jobs=None, oob_score=False, random_state=None,\n",
              "                       verbose=0, warm_start=False)"
            ]
          },
          "metadata": {},
          "execution_count": 12
        }
      ]
    },
    {
      "cell_type": "markdown",
      "metadata": {
        "id": "he_2stBBCLnx"
      },
      "source": [
        "Details from Random Forest Classifier"
      ]
    },
    {
      "cell_type": "code",
      "metadata": {
        "colab": {
          "base_uri": "https://localhost:8080/"
        },
        "id": "KatIaCU4CLU3",
        "outputId": "830c35d1-fbb2-488b-f9b8-f1b9a2c251af"
      },
      "source": [
        "Y_pred = random_forest_classifier.predict(X_test)\n",
        "\n",
        "print('Confusion matrix:\\n', confusion_matrix(Y_test, Y_pred))\n",
        "print('\\nClassification_report:\\n', classification_report(Y_test, Y_pred))\n",
        "print(\"\\nAccuracy:\", accuracy_score(Y_test, Y_pred))"
      ],
      "execution_count": 13,
      "outputs": [
        {
          "output_type": "stream",
          "text": [
            "Confusion matrix:\n",
            " [[84618  3591]\n",
            " [ 9046 16066]]\n",
            "\n",
            "Classification_report:\n",
            "               precision    recall  f1-score   support\n",
            "\n",
            "           0       0.90      0.96      0.93     88209\n",
            "           1       0.82      0.64      0.72     25112\n",
            "\n",
            "    accuracy                           0.89    113321\n",
            "   macro avg       0.86      0.80      0.82    113321\n",
            "weighted avg       0.88      0.89      0.88    113321\n",
            "\n",
            "\n",
            "Accuracy: 0.8884849233593067\n"
          ],
          "name": "stdout"
        }
      ]
    },
    {
      "cell_type": "markdown",
      "metadata": {
        "id": "HOPdJ_nmCtCx"
      },
      "source": [
        "Decision Tree Classifier"
      ]
    },
    {
      "cell_type": "code",
      "metadata": {
        "colab": {
          "base_uri": "https://localhost:8080/"
        },
        "id": "KMjGZtSwmetZ",
        "outputId": "09acdb7b-abf0-41b8-aa60-54e43314be7b"
      },
      "source": [
        "decision_tree_classifier = DecisionTreeClassifier()\n",
        "decision_tree_classifier.fit(X_train, Y_train)"
      ],
      "execution_count": 14,
      "outputs": [
        {
          "output_type": "execute_result",
          "data": {
            "text/plain": [
              "DecisionTreeClassifier(ccp_alpha=0.0, class_weight=None, criterion='gini',\n",
              "                       max_depth=None, max_features=None, max_leaf_nodes=None,\n",
              "                       min_impurity_decrease=0.0, min_impurity_split=None,\n",
              "                       min_samples_leaf=1, min_samples_split=2,\n",
              "                       min_weight_fraction_leaf=0.0, presort='deprecated',\n",
              "                       random_state=None, splitter='best')"
            ]
          },
          "metadata": {},
          "execution_count": 14
        }
      ]
    },
    {
      "cell_type": "markdown",
      "metadata": {
        "id": "RuCsFNlRnpSW"
      },
      "source": [
        "Report from Decision Tree Classifier"
      ]
    },
    {
      "cell_type": "code",
      "metadata": {
        "colab": {
          "base_uri": "https://localhost:8080/"
        },
        "id": "D0g25ap0npIA",
        "outputId": "6364f3c1-1eaa-4e3d-8670-0fc1146a30a9"
      },
      "source": [
        "Y_pred = decision_tree_classifier.predict(X_test)\n",
        "\n",
        "print('Confusion matrix:\\n', confusion_matrix(Y_test, Y_pred))\n",
        "print('\\nClassification_report:\\n', classification_report(Y_test, Y_pred))\n",
        "print(\"\\nAccuracy:\", accuracy_score(Y_test, Y_pred))"
      ],
      "execution_count": 15,
      "outputs": [
        {
          "output_type": "stream",
          "text": [
            "Confusion matrix:\n",
            " [[84788  3421]\n",
            " [ 9293 15819]]\n",
            "\n",
            "Classification_report:\n",
            "               precision    recall  f1-score   support\n",
            "\n",
            "           0       0.90      0.96      0.93     88209\n",
            "           1       0.82      0.63      0.71     25112\n",
            "\n",
            "    accuracy                           0.89    113321\n",
            "   macro avg       0.86      0.80      0.82    113321\n",
            "weighted avg       0.88      0.89      0.88    113321\n",
            "\n",
            "\n",
            "Accuracy: 0.8878054376505679\n"
          ],
          "name": "stdout"
        }
      ]
    },
    {
      "cell_type": "markdown",
      "metadata": {
        "id": "XdTw62wtoTGO"
      },
      "source": [
        "Naive Bayes Classifier"
      ]
    },
    {
      "cell_type": "code",
      "metadata": {
        "colab": {
          "base_uri": "https://localhost:8080/"
        },
        "id": "OreznN1XoS9B",
        "outputId": "1ce8b5ab-9ed9-4da3-cf56-3726e1fb93dd"
      },
      "source": [
        "naive_bayes_classifier = GaussianNB()\n",
        "naive_bayes_classifier.fit(X_train, Y_train)"
      ],
      "execution_count": 16,
      "outputs": [
        {
          "output_type": "execute_result",
          "data": {
            "text/plain": [
              "GaussianNB(priors=None, var_smoothing=1e-09)"
            ]
          },
          "metadata": {},
          "execution_count": 16
        }
      ]
    },
    {
      "cell_type": "markdown",
      "metadata": {
        "id": "vTU6ChLPo1gO"
      },
      "source": [
        "Report from Naive Bayes Classifier"
      ]
    },
    {
      "cell_type": "code",
      "metadata": {
        "colab": {
          "base_uri": "https://localhost:8080/"
        },
        "id": "swCV6Os4o1X3",
        "outputId": "d5ef2456-28d9-4373-88a5-f45dfc0eec92"
      },
      "source": [
        "Y_pred = naive_bayes_classifier.predict(X_test)\n",
        "\n",
        "print('Confusion matrix:\\n', confusion_matrix(Y_test, Y_pred))\n",
        "print('\\nClassification_report:\\n', classification_report(Y_test, Y_pred))\n",
        "print(\"\\nAccuracy:\", accuracy_score(Y_test, Y_pred))"
      ],
      "execution_count": 17,
      "outputs": [
        {
          "output_type": "stream",
          "text": [
            "Confusion matrix:\n",
            " [[78937  9272]\n",
            " [ 6996 18116]]\n",
            "\n",
            "Classification_report:\n",
            "               precision    recall  f1-score   support\n",
            "\n",
            "           0       0.92      0.89      0.91     88209\n",
            "           1       0.66      0.72      0.69     25112\n",
            "\n",
            "    accuracy                           0.86    113321\n",
            "   macro avg       0.79      0.81      0.80    113321\n",
            "weighted avg       0.86      0.86      0.86    113321\n",
            "\n",
            "\n",
            "Accuracy: 0.8564432011718922\n"
          ],
          "name": "stdout"
        }
      ]
    },
    {
      "cell_type": "markdown",
      "metadata": {
        "id": "Fg5MVaeip9Rf"
      },
      "source": [
        "Final Steps"
      ]
    },
    {
      "cell_type": "code",
      "metadata": {
        "id": "_zKHAJKUp9HI",
        "colab": {
          "base_uri": "https://localhost:8080/"
        },
        "outputId": "487500a7-9bd8-4d4a-a894-2c639a92bbea"
      },
      "source": [
        "MLModel = RandomForestClassifier(n_estimators = 50)\n",
        "MLModel.fit(data, result)\n",
        "\n",
        "joblib.dump(random_forest_classifier, 'drive/MyDrive/MLModel.sav')"
      ],
      "execution_count": 18,
      "outputs": [
        {
          "output_type": "execute_result",
          "data": {
            "text/plain": [
              "['drive/MyDrive/MLModel.sav']"
            ]
          },
          "metadata": {},
          "execution_count": 18
        }
      ]
    }
  ]
}