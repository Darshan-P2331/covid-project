{
  "nbformat": 4,
  "nbformat_minor": 0,
  "metadata": {
    "colab": {
      "name": "covid_project.ipynb",
      "provenance": [],
      "collapsed_sections": []
    },
    "kernelspec": {
      "name": "python3",
      "display_name": "Python 3"
    },
    "language_info": {
      "name": "python"
    }
  },
  "cells": [
    {
      "cell_type": "markdown",
      "metadata": {
        "id": "27gEgEvU1MY9"
      },
      "source": [
        "Import the necessary libraries"
      ]
    },
    {
      "cell_type": "code",
      "metadata": {
        "id": "sZ1MEojh1Kii"
      },
      "source": [
        "import numpy\n",
        "import pandas\n",
        "\n",
        "import joblib\n",
        "\n",
        "from google.colab import drive\n",
        "\n",
        "from sklearn.model_selection import train_test_split\n",
        "from sklearn.ensemble import RandomForestClassifier\n",
        "from sklearn import svm\n",
        "from sklearn.tree import DecisionTreeClassifier\n",
        "from sklearn.naive_bayes import GaussianNB\n",
        "from sklearn.metrics import classification_report, confusion_matrix, accuracy_score\n",
        "from sklearn import preprocessing"
      ],
      "execution_count": 19,
      "outputs": []
    },
    {
      "cell_type": "markdown",
      "metadata": {
        "id": "fGNvnkue1VlG"
      },
      "source": [
        "Import Drive"
      ]
    },
    {
      "cell_type": "code",
      "metadata": {
        "colab": {
          "base_uri": "https://localhost:8080/"
        },
        "id": "-LHZ0Fzf1XR9",
        "outputId": "ba8065a0-ea39-492b-dfd6-0a2a98287d06"
      },
      "source": [
        "drive.mount('/content/drive')"
      ],
      "execution_count": 20,
      "outputs": [
        {
          "output_type": "stream",
          "text": [
            "Drive already mounted at /content/drive; to attempt to forcibly remount, call drive.mount(\"/content/drive\", force_remount=True).\n"
          ],
          "name": "stdout"
        }
      ]
    },
    {
      "cell_type": "markdown",
      "metadata": {
        "id": "naLnmfs-1a8O"
      },
      "source": [
        "Read data from CSV file"
      ]
    },
    {
      "cell_type": "code",
      "metadata": {
        "colab": {
          "base_uri": "https://localhost:8080/"
        },
        "id": "4rD-Qspd1dnN",
        "outputId": "e17cf7ef-3c61-47f2-91f6-42393b480843"
      },
      "source": [
        "data = pandas.read_csv('drive/MyDrive/covid.csv')\n",
        "\n",
        "print('Data:\\n')\n",
        "print(data)\n",
        "\n",
        "print('\\nColumns:\\n')\n",
        "print(data.columns)"
      ],
      "execution_count": 21,
      "outputs": [
        {
          "output_type": "stream",
          "text": [
            "Data:\n",
            "\n",
            "            id  sex  patient_type  ... contact_other_covid covid_res icu\n",
            "0       16169f    2             1  ...                   2         1  97\n",
            "1       1009bf    2             1  ...                  99         1  97\n",
            "2       167386    1             2  ...                  99         1   2\n",
            "3       0b5948    2             2  ...                  99         1   2\n",
            "4       0d01b5    1             2  ...                  99         1   2\n",
            "...        ...  ...           ...  ...                 ...       ...  ..\n",
            "566597  01ff60    2             1  ...                   2         3  97\n",
            "566598  047cd1    1             1  ...                   2         3  97\n",
            "566599  1beb81    1             2  ...                  99         3   2\n",
            "566600  16fb02    1             1  ...                   2         3  97\n",
            "566601  0021c9    2             1  ...                   2         3  97\n",
            "\n",
            "[566602 rows x 23 columns]\n",
            "\n",
            "Columns:\n",
            "\n",
            "Index(['id', 'sex', 'patient_type', 'entry_date', 'date_symptoms', 'date_died',\n",
            "       'intubed', 'pneumonia', 'age', 'pregnancy', 'diabetes', 'copd',\n",
            "       'asthma', 'inmsupr', 'hypertension', 'other_disease', 'cardiovascular',\n",
            "       'obesity', 'renal_chronic', 'tobacco', 'contact_other_covid',\n",
            "       'covid_res', 'icu'],\n",
            "      dtype='object')\n"
          ],
          "name": "stdout"
        }
      ]
    },
    {
      "cell_type": "markdown",
      "metadata": {
        "id": "424EACCFIvj_"
      },
      "source": [
        "Encode the gender field"
      ]
    },
    {
      "cell_type": "code",
      "metadata": {
        "id": "9FIIVMkrIvay"
      },
      "source": [
        "data_gender = data.sex\n",
        "\n",
        "male = []\n",
        "female = []\n",
        "other = []\n",
        "\n",
        "for gender in data_gender:\n",
        "    if gender == 1:\n",
        "        male.append(1)\n",
        "        female.append(0)\n",
        "        other.append(0)\n",
        "    elif gender == 2:\n",
        "        male.append(0)\n",
        "        female.append(1)\n",
        "        other.append(0)\n",
        "    else:\n",
        "        male.append(0)\n",
        "        female.append(0)\n",
        "        other.append(1)\n",
        "\n",
        "# Remove existing field\n",
        "data.drop(columns = ['sex'])\n",
        "\n",
        "# Add the new fields\n",
        "data['male'] = male\n",
        "data['female'] = female\n",
        "data['other'] = other"
      ],
      "execution_count": 22,
      "outputs": []
    },
    {
      "cell_type": "markdown",
      "metadata": {
        "id": "QOK2W3C9LiUH"
      },
      "source": [
        "Encode the following fields\n",
        "\n",
        "1. Pneumonia\n",
        "2. Pregnancy\n",
        "3. Diabetes\n",
        "4. COPD\n",
        "5. Asthma\n",
        "6. Hypertension\n",
        "7. Other diseases\n",
        "8. Cardiovascular\n",
        "9. Obesity\n",
        "10. Renal Diseases (Kidney)\n",
        "11. Tobacco consumer"
      ]
    },
    {
      "cell_type": "code",
      "metadata": {
        "id": "To-ZHeLQLiEY"
      },
      "source": [
        "def encode(name):\n",
        "    data_list = data[name]\n",
        "\n",
        "    res = []\n",
        "\n",
        "    for record in data_list:\n",
        "        if record == 1:\n",
        "            res.append(1)\n",
        "        else:\n",
        "            res.append(0)\n",
        "\n",
        "    # Drop the existing field\n",
        "    data.drop(columns = [name])\n",
        "\n",
        "    # Add the new field with same name\n",
        "    data[name] = res\n",
        "    \n",
        "# Encode all the fields in arr\n",
        "arr = ['pneumonia', 'pregnancy', 'diabetes', 'copd', 'asthma', 'hypertension', 'other_disease', 'cardiovascular', 'obesity', 'renal_chronic', 'tobacco']\n",
        "\n",
        "for name in arr:\n",
        "    encode(name)"
      ],
      "execution_count": 23,
      "outputs": []
    },
    {
      "cell_type": "markdown",
      "metadata": {
        "id": "2OsVdpVIZ1km"
      },
      "source": [
        "Put the result into a single field"
      ]
    },
    {
      "cell_type": "code",
      "metadata": {
        "id": "9lMLCBO6Z1X_"
      },
      "source": [
        "result = []\n",
        "\n",
        "data_type = data.patient_type\n",
        "data_ventilator = data.intubed\n",
        "data_icu = data.icu\n",
        "data_died = data.date_died\n",
        "\n",
        "for i in range(0, len(data)):\n",
        "    if data_type[i] == 2 or data_ventilator[i] == 1 or data_icu[i] == 1 or data_died[i] != '9999-99-99':\n",
        "        result.append(1)\n",
        "    else:\n",
        "        result.append(0)"
      ],
      "execution_count": 24,
      "outputs": []
    },
    {
      "cell_type": "markdown",
      "metadata": {
        "id": "LEgKdUvC1gxM"
      },
      "source": [
        "Remove columns which are not useful"
      ]
    },
    {
      "cell_type": "code",
      "metadata": {
        "colab": {
          "base_uri": "https://localhost:8080/"
        },
        "id": "zqbNRqxQ1hes",
        "outputId": "a2f6bb97-c24c-49b3-a08b-9437128221ff"
      },
      "source": [
        "data = data.drop(columns = ['id', 'sex', 'patient_type', 'intubed', 'icu', 'entry_date', 'date_symptoms', 'date_died', 'inmsupr', 'contact_other_covid', 'covid_res'])\n",
        "\n",
        "print('Columns after removal:\\n')\n",
        "print(data.columns)"
      ],
      "execution_count": 25,
      "outputs": [
        {
          "output_type": "stream",
          "text": [
            "Columns after removal:\n",
            "\n",
            "Index(['pneumonia', 'age', 'pregnancy', 'diabetes', 'copd', 'asthma',\n",
            "       'hypertension', 'other_disease', 'cardiovascular', 'obesity',\n",
            "       'renal_chronic', 'tobacco', 'male', 'female', 'other'],\n",
            "      dtype='object')\n"
          ],
          "name": "stdout"
        }
      ]
    },
    {
      "cell_type": "markdown",
      "metadata": {
        "id": "ZQj1qwXM1jys"
      },
      "source": [
        "Split the data into test and train"
      ]
    },
    {
      "cell_type": "code",
      "metadata": {
        "id": "lLpfRIoeGKGy"
      },
      "source": [
        "X_train, X_test, Y_train, Y_test = train_test_split(data, result, test_size = 0.2)"
      ],
      "execution_count": 26,
      "outputs": []
    },
    {
      "cell_type": "markdown",
      "metadata": {
        "id": "JS-jsBltGVwG"
      },
      "source": [
        "Random Forest Classifier"
      ]
    },
    {
      "cell_type": "code",
      "metadata": {
        "id": "wSKJP4UuGYtn",
        "colab": {
          "base_uri": "https://localhost:8080/"
        },
        "outputId": "b3e48536-ab32-48ad-eb5b-e16467ea56d7"
      },
      "source": [
        "random_forest_classifier = RandomForestClassifier(n_estimators = 15)\n",
        "random_forest_classifier.fit(X_train, Y_train)"
      ],
      "execution_count": 27,
      "outputs": [
        {
          "output_type": "execute_result",
          "data": {
            "text/plain": [
              "RandomForestClassifier(bootstrap=True, ccp_alpha=0.0, class_weight=None,\n",
              "                       criterion='gini', max_depth=None, max_features='auto',\n",
              "                       max_leaf_nodes=None, max_samples=None,\n",
              "                       min_impurity_decrease=0.0, min_impurity_split=None,\n",
              "                       min_samples_leaf=1, min_samples_split=2,\n",
              "                       min_weight_fraction_leaf=0.0, n_estimators=15,\n",
              "                       n_jobs=None, oob_score=False, random_state=None,\n",
              "                       verbose=0, warm_start=False)"
            ]
          },
          "metadata": {},
          "execution_count": 27
        }
      ]
    },
    {
      "cell_type": "markdown",
      "metadata": {
        "id": "he_2stBBCLnx"
      },
      "source": [
        "Report from Random Forest Classifier"
      ]
    },
    {
      "cell_type": "code",
      "metadata": {
        "colab": {
          "base_uri": "https://localhost:8080/"
        },
        "id": "KatIaCU4CLU3",
        "outputId": "596abba5-a707-4129-dc11-764d1fc02c11"
      },
      "source": [
        "Y_pred = random_forest_classifier.predict(X_test)\n",
        "\n",
        "print('Confusion matrix:\\n', confusion_matrix(Y_test, Y_pred))\n",
        "print('\\nClassification_report:\\n', classification_report(Y_test, Y_pred))\n",
        "print(\"\\nAccuracy:\", accuracy_score(Y_test, Y_pred))"
      ],
      "execution_count": 28,
      "outputs": [
        {
          "output_type": "stream",
          "text": [
            "Confusion matrix:\n",
            " [[84711  3502]\n",
            " [ 9060 16048]]\n",
            "\n",
            "Classification_report:\n",
            "               precision    recall  f1-score   support\n",
            "\n",
            "           0       0.90      0.96      0.93     88213\n",
            "           1       0.82      0.64      0.72     25108\n",
            "\n",
            "    accuracy                           0.89    113321\n",
            "   macro avg       0.86      0.80      0.82    113321\n",
            "weighted avg       0.89      0.89      0.88    113321\n",
            "\n",
            "\n",
            "Accuracy: 0.8891467600885978\n"
          ],
          "name": "stdout"
        }
      ]
    },
    {
      "cell_type": "markdown",
      "metadata": {
        "id": "HOPdJ_nmCtCx"
      },
      "source": [
        "Decision Tree Classifier"
      ]
    },
    {
      "cell_type": "code",
      "metadata": {
        "colab": {
          "base_uri": "https://localhost:8080/"
        },
        "id": "KMjGZtSwmetZ",
        "outputId": "e6ddff93-d94d-4851-cb50-bb54e6647b8d"
      },
      "source": [
        "decision_tree_classifier = DecisionTreeClassifier()\n",
        "decision_tree_classifier.fit(X_train, Y_train)"
      ],
      "execution_count": 29,
      "outputs": [
        {
          "output_type": "execute_result",
          "data": {
            "text/plain": [
              "DecisionTreeClassifier(ccp_alpha=0.0, class_weight=None, criterion='gini',\n",
              "                       max_depth=None, max_features=None, max_leaf_nodes=None,\n",
              "                       min_impurity_decrease=0.0, min_impurity_split=None,\n",
              "                       min_samples_leaf=1, min_samples_split=2,\n",
              "                       min_weight_fraction_leaf=0.0, presort='deprecated',\n",
              "                       random_state=None, splitter='best')"
            ]
          },
          "metadata": {},
          "execution_count": 29
        }
      ]
    },
    {
      "cell_type": "markdown",
      "metadata": {
        "id": "RuCsFNlRnpSW"
      },
      "source": [
        "Report from Decision Tree Classifier"
      ]
    },
    {
      "cell_type": "code",
      "metadata": {
        "colab": {
          "base_uri": "https://localhost:8080/"
        },
        "id": "D0g25ap0npIA",
        "outputId": "2968d17b-cee9-412b-b9ed-2a4b5d865104"
      },
      "source": [
        "Y_pred = decision_tree_classifier.predict(X_test)\n",
        "\n",
        "print('Confusion matrix:\\n', confusion_matrix(Y_test, Y_pred))\n",
        "print('\\nClassification_report:\\n', classification_report(Y_test, Y_pred))\n",
        "print(\"\\nAccuracy:\", accuracy_score(Y_test, Y_pred))"
      ],
      "execution_count": 30,
      "outputs": [
        {
          "output_type": "stream",
          "text": [
            "Confusion matrix:\n",
            " [[84904  3309]\n",
            " [ 9292 15816]]\n",
            "\n",
            "Classification_report:\n",
            "               precision    recall  f1-score   support\n",
            "\n",
            "           0       0.90      0.96      0.93     88213\n",
            "           1       0.83      0.63      0.72     25108\n",
            "\n",
            "    accuracy                           0.89    113321\n",
            "   macro avg       0.86      0.80      0.82    113321\n",
            "weighted avg       0.88      0.89      0.88    113321\n",
            "\n",
            "\n",
            "Accuracy: 0.8888026049893665\n"
          ],
          "name": "stdout"
        }
      ]
    },
    {
      "cell_type": "markdown",
      "metadata": {
        "id": "XdTw62wtoTGO"
      },
      "source": [
        "Naive Bayes Classifier"
      ]
    },
    {
      "cell_type": "code",
      "metadata": {
        "colab": {
          "base_uri": "https://localhost:8080/"
        },
        "id": "OreznN1XoS9B",
        "outputId": "06364d22-5259-4224-9ed4-104449909683"
      },
      "source": [
        "naive_bayes_classifier = GaussianNB()\n",
        "naive_bayes_classifier.fit(X_train, Y_train)"
      ],
      "execution_count": 31,
      "outputs": [
        {
          "output_type": "execute_result",
          "data": {
            "text/plain": [
              "GaussianNB(priors=None, var_smoothing=1e-09)"
            ]
          },
          "metadata": {},
          "execution_count": 31
        }
      ]
    },
    {
      "cell_type": "markdown",
      "metadata": {
        "id": "vTU6ChLPo1gO"
      },
      "source": [
        "Report from Naive Bayes Classifier"
      ]
    },
    {
      "cell_type": "code",
      "metadata": {
        "colab": {
          "base_uri": "https://localhost:8080/"
        },
        "id": "swCV6Os4o1X3",
        "outputId": "390d8873-8e44-4369-9527-381a764f9eae"
      },
      "source": [
        "Y_pred = naive_bayes_classifier.predict(X_test)\n",
        "\n",
        "print('Confusion matrix:\\n', confusion_matrix(Y_test, Y_pred))\n",
        "print('\\nClassification_report:\\n', classification_report(Y_test, Y_pred))\n",
        "print(\"\\nAccuracy:\", accuracy_score(Y_test, Y_pred))"
      ],
      "execution_count": 32,
      "outputs": [
        {
          "output_type": "stream",
          "text": [
            "Confusion matrix:\n",
            " [[78999  9214]\n",
            " [ 6829 18279]]\n",
            "\n",
            "Classification_report:\n",
            "               precision    recall  f1-score   support\n",
            "\n",
            "           0       0.92      0.90      0.91     88213\n",
            "           1       0.66      0.73      0.70     25108\n",
            "\n",
            "    accuracy                           0.86    113321\n",
            "   macro avg       0.79      0.81      0.80    113321\n",
            "weighted avg       0.86      0.86      0.86    113321\n",
            "\n",
            "\n",
            "Accuracy: 0.8584287113597656\n"
          ],
          "name": "stdout"
        }
      ]
    },
    {
      "cell_type": "markdown",
      "metadata": {
        "id": "Fg5MVaeip9Rf"
      },
      "source": [
        "Final Steps"
      ]
    },
    {
      "cell_type": "code",
      "metadata": {
        "id": "_zKHAJKUp9HI",
        "colab": {
          "base_uri": "https://localhost:8080/"
        },
        "outputId": "c9b7f0f9-e3b4-403d-d4bb-becc90a76ebd"
      },
      "source": [
        "MLModel = RandomForestClassifier(n_estimators = 15)\n",
        "MLModel.fit(data, result)\n",
        "\n",
        "joblib.dump(random_forest_classifier, 'drive/MyDrive/MLModel.sav')"
      ],
      "execution_count": 33,
      "outputs": [
        {
          "output_type": "execute_result",
          "data": {
            "text/plain": [
              "['drive/MyDrive/MLModel.sav']"
            ]
          },
          "metadata": {},
          "execution_count": 33
        }
      ]
    }
  ]
}